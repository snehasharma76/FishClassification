{
  "nbformat": 4,
  "nbformat_minor": 0,
  "metadata": {
    "colab": {
      "name": "Untitled3.ipynb",
      "provenance": [],
      "collapsed_sections": []
    },
    "kernelspec": {
      "name": "python3",
      "display_name": "Python 3.9.0 64-bit"
    },
    "language_info": {
      "name": "python",
      "version": "3.9.0"
    },
    "interpreter": {
      "hash": "64d2aa67032314140309f41f4d33ef1e31d976f68284126ec7fc0407d51c45ef"
    }
  },
  "cells": [
    {
      "cell_type": "code",
      "metadata": {
        "id": "w0ciBL_S3xIw"
      },
      "source": [
        "import tensorflow as tf\n",
        "from keras.preprocessing.image import ImageDataGenerator"
      ],
      "execution_count": 1,
      "outputs": []
    },
    {
      "cell_type": "code",
      "execution_count": 2,
      "metadata": {},
      "outputs": [],
      "source": [
        "#pip install scipy"
      ]
    },
    {
      "cell_type": "code",
      "metadata": {
        "colab": {
          "base_uri": "https://localhost:8080/",
          "height": 35
        },
        "id": "XESs0_u931HE",
        "outputId": "1ad088f2-c1d8-44a0-ca19-63e3e9b41c36"
      },
      "source": [
        "tf.__version__"
      ],
      "execution_count": 3,
      "outputs": [
        {
          "output_type": "execute_result",
          "data": {
            "text/plain": [
              "'2.5.0'"
            ]
          },
          "metadata": {},
          "execution_count": 3
        }
      ]
    },
    {
      "cell_type": "code",
      "metadata": {
        "id": "mDF02WkZ375Z"
      },
      "source": [
        "train_datagen = ImageDataGenerator(rescale = 1./255,\n",
        "                                   shear_range = 0.2,\n",
        "                                   zoom_range = 0.2,\n",
        "                                   horizontal_flip = True)\n",
        "training_set = train_datagen.flow_from_directory('Fish_Dataset',\n",
        "                                                 target_size = (64, 64),\n",
        "                                                 batch_size = 32,\n",
        "                                                 class_mode = 'categorical')"
      ],
      "execution_count": 4,
      "outputs": [
        {
          "output_type": "stream",
          "name": "stdout",
          "text": [
            "Found 18000 images belonging to 9 classes.\n"
          ]
        }
      ]
    },
    {
      "cell_type": "code",
      "execution_count": 5,
      "metadata": {},
      "outputs": [
        {
          "output_type": "stream",
          "name": "stdout",
          "text": [
            "Found 430 images belonging to 9 classes.\n"
          ]
        }
      ],
      "source": [
        "test_datagen = ImageDataGenerator(rescale = 1./255)\n",
        "test_set = test_datagen.flow_from_directory('NA_Fish_Dataset',\n",
        "                                            target_size = (64, 64),\n",
        "                                            batch_size = 32,\n",
        "                                            class_mode = 'categorical')"
      ]
    },
    {
      "cell_type": "code",
      "metadata": {
        "id": "n_yT_mgi5qv6"
      },
      "source": [
        "cnn = tf.keras.models.Sequential()"
      ],
      "execution_count": 6,
      "outputs": []
    },
    {
      "cell_type": "code",
      "metadata": {
        "id": "gzNM9Yj1813B"
      },
      "source": [
        "cnn.add(tf.keras.layers.Conv2D(filters=32, kernel_size=3, activation=tf.keras.layers.LeakyReLU(alpha=0.3), input_shape=[64, 64, 3]))"
      ],
      "execution_count": 7,
      "outputs": []
    },
    {
      "cell_type": "code",
      "metadata": {
        "id": "BhRxYCRO9BfH"
      },
      "source": [
        "cnn.add(tf.keras.layers.MaxPool2D(pool_size=2, strides=2))\n",
        "cnn.add(tf.keras.layers.Dropout(0.5)) "
      ],
      "execution_count": 8,
      "outputs": []
    },
    {
      "cell_type": "code",
      "metadata": {
        "id": "DbrErnDY9EqA"
      },
      "source": [
        "cnn.add(tf.keras.layers.Conv2D(filters=32, kernel_size=3, activation=tf.keras.layers.LeakyReLU(alpha=0.3)))\n",
        "cnn.add(tf.keras.layers.MaxPool2D(pool_size=2, strides=2))"
      ],
      "execution_count": 9,
      "outputs": []
    },
    {
      "cell_type": "code",
      "metadata": {
        "id": "whdA0Jzn9HyE"
      },
      "source": [
        "cnn.add(tf.keras.layers.Flatten())"
      ],
      "execution_count": 10,
      "outputs": []
    },
    {
      "cell_type": "code",
      "metadata": {
        "id": "3n31lJ8n9MR2"
      },
      "source": [
        "cnn.add(tf.keras.layers.Dense(units=128, activation='relu'))"
      ],
      "execution_count": 11,
      "outputs": []
    },
    {
      "cell_type": "code",
      "metadata": {
        "id": "UR4ImHkq9QZA"
      },
      "source": [
        "cnn.add(tf.keras.layers.Dense(units=9, activation='softmax'))"
      ],
      "execution_count": 12,
      "outputs": []
    },
    {
      "cell_type": "code",
      "execution_count": 13,
      "metadata": {},
      "outputs": [],
      "source": [
        "cnn.compile(optimizer = 'RMSprop', loss='categorical_crossentropy', metrics = ['accuracy'])"
      ]
    },
    {
      "cell_type": "code",
      "execution_count": 14,
      "metadata": {},
      "outputs": [
        {
          "output_type": "stream",
          "name": "stdout",
          "text": [
            "Epoch 1/10\n",
            "563/563 [==============================] - 614s 1s/step - loss: 1.4390 - accuracy: 0.4536 - val_loss: 2.0344 - val_accuracy: 0.4279\n",
            "Epoch 2/10\n",
            "563/563 [==============================] - 488s 867ms/step - loss: 1.0051 - accuracy: 0.6190 - val_loss: 2.3415 - val_accuracy: 0.5884\n",
            "Epoch 3/10\n",
            "563/563 [==============================] - 505s 897ms/step - loss: 0.8348 - accuracy: 0.6867 - val_loss: 2.4831 - val_accuracy: 0.5721\n",
            "Epoch 4/10\n",
            "563/563 [==============================] - 465s 827ms/step - loss: 0.7476 - accuracy: 0.7188 - val_loss: 2.4266 - val_accuracy: 0.5907\n",
            "Epoch 5/10\n",
            "563/563 [==============================] - 308s 547ms/step - loss: 0.6711 - accuracy: 0.7416 - val_loss: 2.1485 - val_accuracy: 0.6628\n",
            "Epoch 6/10\n",
            "563/563 [==============================] - 338s 600ms/step - loss: 0.6342 - accuracy: 0.7638 - val_loss: 2.2128 - val_accuracy: 0.6000\n",
            "Epoch 7/10\n",
            "563/563 [==============================] - 350s 622ms/step - loss: 0.5965 - accuracy: 0.7769 - val_loss: 2.4774 - val_accuracy: 0.6721\n",
            "Epoch 8/10\n",
            "563/563 [==============================] - 319s 567ms/step - loss: 0.5673 - accuracy: 0.7906 - val_loss: 3.3157 - val_accuracy: 0.5419\n",
            "Epoch 9/10\n",
            "563/563 [==============================] - 335s 595ms/step - loss: 0.5538 - accuracy: 0.7937 - val_loss: 2.3497 - val_accuracy: 0.6721\n",
            "Epoch 10/10\n",
            "563/563 [==============================] - 336s 597ms/step - loss: 0.5341 - accuracy: 0.8023 - val_loss: 3.3262 - val_accuracy: 0.6372\n"
          ]
        },
        {
          "output_type": "execute_result",
          "data": {
            "text/plain": [
              "<tensorflow.python.keras.callbacks.History at 0x1ff03ef90d0>"
            ]
          },
          "metadata": {},
          "execution_count": 14
        }
      ],
      "source": [
        "cnn.fit(x = training_set, validation_data = test_set, epochs = 10)"
      ]
    },
    {
      "cell_type": "code",
      "execution_count": null,
      "metadata": {},
      "outputs": [],
      "source": []
    }
  ]
}